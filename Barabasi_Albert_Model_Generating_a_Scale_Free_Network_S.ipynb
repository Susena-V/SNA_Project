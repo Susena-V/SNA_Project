{
  "nbformat": 4,
  "nbformat_minor": 0,
  "metadata": {
    "colab": {
      "provenance": [],
      "authorship_tag": "ABX9TyOINuLpJ6B6X4RGYGltgp8r",
      "include_colab_link": true
    },
    "kernelspec": {
      "name": "python3",
      "display_name": "Python 3"
    },
    "language_info": {
      "name": "python"
    }
  },
  "cells": [
    {
      "cell_type": "markdown",
      "metadata": {
        "id": "view-in-github",
        "colab_type": "text"
      },
      "source": [
        "<a href=\"https://colab.research.google.com/github/Susena-V/SNA_Project/blob/main/Barabasi_Albert_Model_Generating_a_Scale_Free_Network_S.ipynb\" target=\"_parent\"><img src=\"https://colab.research.google.com/assets/colab-badge.svg\" alt=\"Open In Colab\"/></a>"
      ]
    },
    {
      "cell_type": "markdown",
      "source": [
        "A) Generate BA Network:\n",
        "1. Implement the BA Algorithm to generate the scale-free network S over 10000 nodes. Assume\n",
        "there are 100 nodes in the initialization phase for BA and adhering to the characteristics laid\n",
        "by the BA Model (deg of each node >=1). State clearly what are the initialisation steps in the\n",
        "report.\n",
        "2. Find the Giant component for S and compare the Giant component size with the two networks\n",
        "that you had taken in the Round 1. Compare and contrast the basic statistics of the networks\n",
        "(mean degree, degree distribution, average local clustering coefficient, global clustering\n",
        "coefficient).\n",
        "3. Do all the centrality measure studies conducted for Project Round 1 for the net"
      ],
      "metadata": {
        "id": "4OIFIOAutDTQ"
      }
    },
    {
      "cell_type": "code",
      "execution_count": 2,
      "metadata": {
        "id": "BrSZbWSAsZZa"
      },
      "outputs": [],
      "source": [
        "import numpy as np\n",
        "import networkx as nx"
      ]
    },
    {
      "cell_type": "code",
      "source": [
        "N = 10000\n",
        "m0 = 100\n",
        "m = 80 # edges added per new node - mention in the report\n",
        "\n",
        "G = nx.complete_graph(m0)\n",
        "\n",
        "for new_node in range(m0, N):\n",
        "  degrees = [G.degree(node) for node in G.nodes()]\n",
        "\n",
        "  total_degree = sum(degrees)\n",
        "  probabilities = [degree/total_degree for degree in degrees]\n",
        "\n",
        "  targets = np.random.choice(G.nodes(), size = m, replace = False, p = probabilities)\n",
        "\n",
        "  for target in targets:\n",
        "    G.add_edge(new_node, target)\n",
        "\n",
        "ba_network = G"
      ],
      "metadata": {
        "id": "ykEroKYatHSQ"
      },
      "execution_count": 2,
      "outputs": []
    },
    {
      "cell_type": "code",
      "source": [],
      "metadata": {
        "id": "3h0XVcC9F32q"
      },
      "execution_count": null,
      "outputs": []
    },
    {
      "cell_type": "code",
      "source": [
        "with open('S.txt', 'w') as f:\n",
        "  for u,v in ba_network.edges():\n",
        "    f.write(f'{u} {v} \\n')"
      ],
      "metadata": {
        "id": "qrOnWI5tu1gD"
      },
      "execution_count": 3,
      "outputs": []
    },
    {
      "cell_type": "markdown",
      "source": [
        "EVERY NEW NODE ADDS 80 EDGES - THIS SHOULD GO IN THE INITIALIZATION REPORT"
      ],
      "metadata": {
        "id": "9JmIxRIiuLiG"
      }
    },
    {
      "cell_type": "markdown",
      "source": [
        "## Identifying the Giant Component"
      ],
      "metadata": {
        "id": "qiNif940xy4c"
      }
    },
    {
      "cell_type": "code",
      "source": [
        "components = nx.connected_components(ba_network)\n",
        "giant_component = max(components, key = len)"
      ],
      "metadata": {
        "id": "Op34_bjVxx_J"
      },
      "execution_count": 4,
      "outputs": []
    },
    {
      "cell_type": "code",
      "source": [
        "print(f'GIANT COMPONENT {len(giant_component)}')"
      ],
      "metadata": {
        "colab": {
          "base_uri": "https://localhost:8080/"
        },
        "id": "eTA9uWWny5ca",
        "outputId": "96b7ac62-9e6f-4274-c4a8-16d5f9ead882"
      },
      "execution_count": 5,
      "outputs": [
        {
          "output_type": "stream",
          "name": "stdout",
          "text": [
            "GIANT COMPONENT 10000\n"
          ]
        }
      ]
    },
    {
      "cell_type": "markdown",
      "source": [
        "basic statistics of the networks\n",
        "(mean degree, degree distribution, average local clustering coefficient, global clustering\n",
        "coefficient)."
      ],
      "metadata": {
        "id": "OS1pDzrr1BfE"
      }
    },
    {
      "cell_type": "code",
      "source": [
        "mean_degree = 2*len(ba_network.edges())/len(ba_network.nodes())\n",
        "print(f\"Mean Degree: {mean_degree}\")"
      ],
      "metadata": {
        "colab": {
          "base_uri": "https://localhost:8080/"
        },
        "id": "0-4qeyFfzAZ_",
        "outputId": "6f488f58-4041-429c-e076-ed152242435f"
      },
      "execution_count": 6,
      "outputs": [
        {
          "output_type": "stream",
          "name": "stdout",
          "text": [
            "Mean Degree: 159.39\n"
          ]
        }
      ]
    },
    {
      "cell_type": "code",
      "source": [
        "from collections import defaultdict"
      ],
      "metadata": {
        "id": "JgvazP9h1zZZ"
      },
      "execution_count": 7,
      "outputs": []
    },
    {
      "cell_type": "code",
      "source": [
        "import matplotlib.pyplot as plt\n",
        "\n",
        "degree_sequence = sorted([d for n, d in ba_network.degree()], reverse = True)\n",
        "degree_counts = defaultdict(int)\n",
        "\n",
        "for degree in degree_sequence:\n",
        "  degree_counts[degree]+=1\n",
        "\n",
        "degrees = list(degree_counts.keys())\n",
        "frequencies = list(degree_counts.values())\n"
      ],
      "metadata": {
        "id": "644sKxdK1RHf"
      },
      "execution_count": 8,
      "outputs": []
    },
    {
      "cell_type": "code",
      "source": [
        "plt.loglog(degrees, frequencies, 'o', markersize=2)\n",
        "plt.xlabel(\"Degree (k)\")\n",
        "plt.ylabel(\"Frequency\")\n",
        "plt.title(\"Degree Distribution (Log-Log Scale)\")\n",
        "plt.show()"
      ],
      "metadata": {
        "colab": {
          "base_uri": "https://localhost:8080/",
          "height": 476
        },
        "id": "H6KYQhZX2IhF",
        "outputId": "31424afb-cec2-4fee-c505-f9bfa27c125e"
      },
      "execution_count": 9,
      "outputs": [
        {
          "output_type": "display_data",
          "data": {
            "text/plain": [
              "<Figure size 640x480 with 1 Axes>"
            ],
            "image/png": "[encoded data removed]"
          },
          "metadata": {}
        }
      ]
    },
    {
      "cell_type": "code",
      "source": [
        "plt.plot(degrees, frequencies)\n",
        "plt.xlabel(\"Degree (k)\")\n",
        "plt.ylabel(\"Frequency\")\n",
        "plt.title(\"Degree Distribution\")\n",
        "plt.show()"
      ],
      "metadata": {
        "colab": {
          "base_uri": "https://localhost:8080/",
          "height": 472
        },
        "id": "mMAi-4ne2fkj",
        "outputId": "25347a0f-1f95-455a-f1f5-6eb99ac2da1c"
      },
      "execution_count": 10,
      "outputs": [
        {
          "output_type": "display_data",
          "data": {
            "text/plain": [
              "<Figure size 640x480 with 1 Axes>"
            ],
            "image/png": "[encoded data removed]"
          },
          "metadata": {}
        }
      ]
    },
    {
      "cell_type": "code",
      "source": [
        "# Compute the average local clustering coefficient\n",
        "avg_local_clustering = nx.average_clustering(ba_network)\n",
        "print(f\"Average Local Clustering Coefficient: {avg_local_clustering}\")"
      ],
      "metadata": {
        "colab": {
          "base_uri": "https://localhost:8080/"
        },
        "id": "Vv5K60fb2uwn",
        "outputId": "e6997358-058d-4473-d9bf-c28b13a871fd"
      },
      "execution_count": 11,
      "outputs": [
        {
          "output_type": "stream",
          "name": "stdout",
          "text": [
            "Average Local Clustering Coefficient: 0.053567509858286316\n"
          ]
        }
      ]
    },
    {
      "cell_type": "code",
      "source": [
        "# Compute the global clustering coefficient\n",
        "global_clustering = nx.transitivity(ba_network)\n",
        "print(f\"Global Clustering Coefficient: {global_clustering}\")"
      ],
      "metadata": {
        "colab": {
          "base_uri": "https://localhost:8080/"
        },
        "id": "_sCLL9TU49rZ",
        "outputId": "68e96817-be6e-4638-cebc-da0fc2431dc9"
      },
      "execution_count": 12,
      "outputs": [
        {
          "output_type": "stream",
          "name": "stdout",
          "text": [
            "Global Clustering Coefficient: 0.05520148523989778\n"
          ]
        }
      ]
    },
    {
      "cell_type": "markdown",
      "source": [
        "## Centrality Measures"
      ],
      "metadata": {
        "id": "7byKaXbl_eS0"
      }
    },
    {
      "cell_type": "code",
      "source": [
        "import networkx as nx\n",
        "\n",
        "\n",
        "\n",
        "G = nx.Graph()  # Undirected graph\n",
        "\n",
        "# Open the file and read edges\n",
        "with open(\"/content/S.txt\", 'r') as f:\n",
        "    for line in f:\n",
        "        line = line.strip()  # Remove leading/trailing whitespace\n",
        "        if line:  # Skip empty lines\n",
        "            u, v = map(int, line.split())  # Split the line into two nodes\n",
        "            G.add_edge(u, v)  # Add the edge to the graph\n",
        "\n",
        "\n",
        "# Print basic information about the graph\n",
        "print(f\"Number of nodes: {G.number_of_nodes()}\")\n",
        "print(f\"Number of edges: {G.number_of_edges()}\")"
      ],
      "metadata": {
        "id": "jM9w5YjWF5_F",
        "outputId": "07274b6d-6f29-4840-af8c-1013a89cd4e8",
        "colab": {
          "base_uri": "https://localhost:8080/"
        }
      },
      "execution_count": 3,
      "outputs": [
        {
          "output_type": "stream",
          "name": "stdout",
          "text": [
            "Number of nodes: 10000\n",
            "Number of edges: 796950\n"
          ]
        }
      ]
    },
    {
      "cell_type": "code",
      "source": [
        "ba_network = G"
      ],
      "metadata": {
        "id": "7hlUpZDNGef3"
      },
      "execution_count": 5,
      "outputs": []
    },
    {
      "cell_type": "code",
      "source": [
        "degree_centrality = nx.degree_centrality(ba_network)\n",
        "\n",
        "top_degree = sorted(degree_centrality.items(), key=lambda x: x[1], reverse=True)[:5]\n",
        "print(\"Top 5 nodes by Degree Centrality:\", top_degree)"
      ],
      "metadata": {
        "id": "GBp9xBJS4_QI",
        "colab": {
          "base_uri": "https://localhost:8080/"
        },
        "outputId": "6bf2f7d7-bf31-4087-947b-4fab5b42b573"
      },
      "execution_count": 6,
      "outputs": [
        {
          "output_type": "stream",
          "name": "stdout",
          "text": [
            "Top 5 nodes by Degree Centrality: [(72, 0.1328132813281328), (80, 0.13251325132513253), (93, 0.1277127712771277), (59, 0.1272127212721272), (33, 0.127012701270127)]\n"
          ]
        }
      ]
    },
    {
      "cell_type": "code",
      "source": [
        "eigenvector_centrality = nx.eigenvector_centrality(ba_network, max_iter=1000)\n",
        "\n",
        "top_eigenvector = sorted(eigenvector_centrality.items(), key=lambda x: x[1], reverse=True)[:5]\n",
        "print(\"Top 5 nodes by Eigenvector Centrality:\", top_eigenvector)"
      ],
      "metadata": {
        "colab": {
          "base_uri": "https://localhost:8080/"
        },
        "id": "enrKbA13_1pb",
        "outputId": "53ac861c-3071-4315-fb2d-4b0aada4ab41"
      },
      "execution_count": 14,
      "outputs": [
        {
          "output_type": "stream",
          "name": "stdout",
          "text": [
            "Top 5 nodes by Eigenvector Centrality: [(72, 0.06196125227543433), (80, 0.06123977041748353), (93, 0.06101351622893872), (12, 0.05907399063921787), (33, 0.059045178820994235)]\n"
          ]
        }
      ]
    },
    {
      "cell_type": "code",
      "source": [
        "# Compute Katz centrality\n",
        "katz_centrality = nx.katz_centrality(G, alpha=0.001, max_iter =5000)\n",
        "\n",
        "# Print top 5 nodes with highest Katz centrality\n",
        "top_katz = sorted(katz_centrality.items(), key=lambda x: x[1], reverse=True)[:5]\n",
        "print(\"Top 5 nodes by Katz Centrality:\", top_katz)"
      ],
      "metadata": {
        "colab": {
          "base_uri": "https://localhost:8080/"
        },
        "id": "gVoEAkRCACtV",
        "outputId": "32582a00-50a6-47ee-f287-1b8b2c6acab7"
      },
      "execution_count": 8,
      "outputs": [
        {
          "output_type": "stream",
          "name": "stdout",
          "text": [
            "Top 5 nodes by Katz Centrality: [(72, 0.02323454179894621), (80, 0.023154473427610213), (93, 0.022747908412119287), (33, 0.022557135885368403), (59, 0.022518383861057232)]\n"
          ]
        }
      ]
    },
    {
      "cell_type": "code",
      "source": [
        "# Compute PageRank centrality\n",
        "pagerank_centrality = nx.pagerank(G, alpha=0.85)\n",
        "\n",
        "# Print top 5 nodes with highest PageRank centrality\n",
        "top_pagerank = sorted(pagerank_centrality.items(), key=lambda x: x[1], reverse=True)[:5]\n",
        "print(\"Top 5 nodes by PageRank Centrality:\", top_pagerank)"
      ],
      "metadata": {
        "colab": {
          "base_uri": "https://localhost:8080/"
        },
        "id": "42TwHq4gAIzX",
        "outputId": "7a624b01-1da4-40ec-c8ea-362c5df51561"
      },
      "execution_count": 9,
      "outputs": [
        {
          "output_type": "stream",
          "name": "stdout",
          "text": [
            "Top 5 nodes by PageRank Centrality: [(72, 0.0007219869026641566), (80, 0.0007202564185246818), (59, 0.00069327483626921), (93, 0.0006916914970152581), (33, 0.0006896989928914834)]\n"
          ]
        }
      ]
    },
    {
      "cell_type": "code",
      "source": [
        "# Compute local clustering coefficients for all nodes\n",
        "local_clustering = nx.clustering(G)\n",
        "\n",
        "# Print top 5 nodes with highest local clustering\n",
        "top_local_clustering = sorted(local_clustering.items(), key=lambda x: x[1], reverse=True)[:5]\n",
        "print(\"Top 5 nodes by Local Clustering Coefficient:\", top_local_clustering)"
      ],
      "metadata": {
        "colab": {
          "base_uri": "https://localhost:8080/"
        },
        "id": "rYPAkx4QAJOz",
        "outputId": "1041500a-fb6d-4945-ea13-85dc69091e0b"
      },
      "execution_count": 10,
      "outputs": [
        {
          "output_type": "stream",
          "name": "stdout",
          "text": [
            "Top 5 nodes by Local Clustering Coefficient: [(9112, 0.11548633558624744), (9889, 0.1111111111111111), (6908, 0.10827374872318693), (9411, 0.10478771454381211), (9857, 0.10154320987654321)]\n"
          ]
        }
      ]
    },
    {
      "cell_type": "code",
      "source": [
        "# Compute global clustering coefficient\n",
        "global_clustering = nx.transitivity(G)\n",
        "print(f\"Global Clustering Coefficient: {global_clustering}\")"
      ],
      "metadata": {
        "colab": {
          "base_uri": "https://localhost:8080/"
        },
        "id": "N7ksNIFNAK9e",
        "outputId": "cb335e58-c83d-4769-e85a-848034640a27"
      },
      "execution_count": 11,
      "outputs": [
        {
          "output_type": "stream",
          "name": "stdout",
          "text": [
            "Global Clustering Coefficient: 0.05520148523989778\n"
          ]
        }
      ]
    },
    {
      "cell_type": "code",
      "source": [
        "# Compute average local clustering coefficient\n",
        "avg_local_clustering = sum(local_clustering.values()) / len(local_clustering)\n",
        "print(f\"Average Local Clustering Coefficient: {avg_local_clustering}\")\n",
        "\n",
        "# Compare\n",
        "print(f\"Comparison: Average Local Clustering ({avg_local_clustering}) vs. Global Clustering ({global_clustering})\")"
      ],
      "metadata": {
        "colab": {
          "base_uri": "https://localhost:8080/"
        },
        "id": "wvqoT863AOhI",
        "outputId": "f2e7e7e2-ef83-4ea5-c5c1-d6d9b168b7e8"
      },
      "execution_count": 12,
      "outputs": [
        {
          "output_type": "stream",
          "name": "stdout",
          "text": [
            "Average Local Clustering Coefficient: 0.053567509858286004\n",
            "Comparison: Average Local Clustering (0.053567509858286004) vs. Global Clustering (0.05520148523989778)\n"
          ]
        }
      ]
    },
    {
      "cell_type": "code",
      "source": [
        "# Compute betweenness centrality\n",
        "betweenness_centrality = nx.betweenness_centrality(G)\n",
        "\n",
        "# Print top 5 nodes with highest betweenness centrality\n",
        "top_betweenness = sorted(betweenness_centrality.items(), key=lambda x: x[1], reverse=True)[:5]\n",
        "print(\"Top 5 nodes by Betweenness Centrality:\", top_betweenness)"
      ],
      "metadata": {
        "colab": {
          "base_uri": "https://localhost:8080/"
        },
        "id": "PqT0aDDEASTE",
        "outputId": "602eb230-fd5c-4f44-fe11-ee6c0b6c9cba"
      },
      "execution_count": 13,
      "outputs": [
        {
          "output_type": "stream",
          "name": "stdout",
          "text": [
            "Top 5 nodes by Betweenness Centrality: [(72, 0.003998722400576799), (80, 0.003949353056385265), (59, 0.003720508046444365), (30, 0.003664284597554697), (4, 0.0036277795355501036)]\n"
          ]
        }
      ]
    },
    {
      "cell_type": "code",
      "source": [
        "# Compute closeness centrality\n",
        "closeness_centrality = nx.closeness_centrality(G)\n",
        "\n",
        "# Print top 5 nodes with highest closeness centrality\n",
        "top_closeness = sorted(closeness_centrality.items(), key=lambda x: x[1], reverse=True)[:5]\n",
        "print(\"Top 5 nodes by Closeness Centrality:\", top_closeness)"
      ],
      "metadata": {
        "colab": {
          "base_uri": "https://localhost:8080/"
        },
        "id": "O2wbFZ1fAXOS",
        "outputId": "3536ed20-e5c5-4d45-94d2-6050d3b499c7"
      },
      "execution_count": 14,
      "outputs": [
        {
          "output_type": "stream",
          "name": "stdout",
          "text": [
            "Top 5 nodes by Closeness Centrality: [(72, 0.5355650776647027), (80, 0.5354790338992128), (93, 0.5341060840767053), (59, 0.5339634732457545), (33, 0.5339064502349423)]\n"
          ]
        }
      ]
    },
    {
      "cell_type": "code",
      "source": [],
      "metadata": {
        "id": "T3oupbdCAYfG"
      },
      "execution_count": null,
      "outputs": []
    }
  ]
}